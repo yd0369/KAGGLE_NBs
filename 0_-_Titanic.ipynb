{
 "cells": [
  {
   "cell_type": "code",
   "execution_count": 1,
   "id": "c2f4f082",
   "metadata": {
    "_cell_guid": "b1076dfc-b9ad-4769-8c92-a6c4dae69d19",
    "_uuid": "8f2839f25d086af736a60e9eeb907d3b93b6e0e5",
    "execution": {
     "iopub.execute_input": "2022-11-02T15:33:35.255211Z",
     "iopub.status.busy": "2022-11-02T15:33:35.253975Z",
     "iopub.status.idle": "2022-11-02T15:33:35.267931Z",
     "shell.execute_reply": "2022-11-02T15:33:35.266806Z"
    },
    "papermill": {
     "duration": 0.025422,
     "end_time": "2022-11-02T15:33:35.271055",
     "exception": false,
     "start_time": "2022-11-02T15:33:35.245633",
     "status": "completed"
    },
    "tags": []
   },
   "outputs": [
    {
     "name": "stdout",
     "output_type": "stream",
     "text": [
      "/kaggle/input/titanic/train.csv\n",
      "/kaggle/input/titanic/test.csv\n",
      "/kaggle/input/titanic/gender_submission.csv\n"
     ]
    }
   ],
   "source": [
    "# This Python 3 environment comes with many helpful analytics libraries installed\n",
    "# It is defined by the kaggle/python Docker image: https://github.com/kaggle/docker-python\n",
    "# For example, here's several helpful packages to load\n",
    "\n",
    "import numpy as np # linear algebra\n",
    "import pandas as pd # data processing, CSV file I/O (e.g. pd.read_csv)\n",
    "\n",
    "# Input data files are available in the read-only \"../input/\" directory\n",
    "# For example, running this (by clicking run or pressing Shift+Enter) will list all files under the input directory\n",
    "\n",
    "import os\n",
    "for dirname, _, filenames in os.walk('/kaggle/input'):\n",
    "    for filename in filenames:\n",
    "        print(os.path.join(dirname, filename))\n",
    "\n",
    "# You can write up to 20GB to the current directory (/kaggle/working/) that gets preserved as output when you create a version using \"Save & Run All\" \n",
    "# You can also write temporary files to /kaggle/temp/, but they won't be saved outside of the current session"
   ]
  },
  {
   "cell_type": "code",
   "execution_count": 2,
   "id": "e419f65b",
   "metadata": {
    "execution": {
     "iopub.execute_input": "2022-11-02T15:33:35.283090Z",
     "iopub.status.busy": "2022-11-02T15:33:35.282778Z",
     "iopub.status.idle": "2022-11-02T15:33:36.272897Z",
     "shell.execute_reply": "2022-11-02T15:33:36.271517Z"
    },
    "papermill": {
     "duration": 0.99952,
     "end_time": "2022-11-02T15:33:36.275731",
     "exception": false,
     "start_time": "2022-11-02T15:33:35.276211",
     "status": "completed"
    },
    "tags": []
   },
   "outputs": [
    {
     "name": "stdout",
     "output_type": "stream",
     "text": [
      "/kaggle/working\r\n"
     ]
    }
   ],
   "source": [
    "!pwd"
   ]
  },
  {
   "cell_type": "markdown",
   "id": "f0784b0a",
   "metadata": {
    "papermill": {
     "duration": 0.005763,
     "end_time": "2022-11-02T15:33:36.286867",
     "exception": false,
     "start_time": "2022-11-02T15:33:36.281104",
     "status": "completed"
    },
    "tags": []
   },
   "source": [
    "## Titanic - Machine Learning from Disaster\n",
    "### Start here! Predict survival on the Titanic and get familiar with ML basics"
   ]
  },
  {
   "cell_type": "markdown",
   "id": "e6788949",
   "metadata": {
    "papermill": {
     "duration": 0.005268,
     "end_time": "2022-11-02T15:33:36.297815",
     "exception": false,
     "start_time": "2022-11-02T15:33:36.292547",
     "status": "completed"
    },
    "tags": []
   },
   "source": [
    "Dataset Description\n",
    "-------------------\n",
    "\n",
    "### Overview\n",
    "\n",
    "The data has been split into two groups:\n",
    "\n",
    "-   training set (train.csv)\n",
    "-   test set (test.csv)\n",
    "\n",
    "The training set should be used to build your machine learning models. For the training set, we provide the outcome (also known as the \"ground truth\") for each passenger. Your model will be based on \"features\" like passengers' gender and class. You can also use [feature engineering ](https://triangleinequality.wordpress.com/2013/09/08/basic-feature-engineering-with-the-titanic-data/)to create new features.\n",
    "\n",
    "The test set should be used to see how well your model performs on unseen data. For the test set, we do not provide the ground truth for each passenger. It is your job to predict these outcomes. For each passenger in the test set, use the model you trained to predict whether or not they survived the sinking of the Titanic.\n",
    "\n",
    "We also include gender_submission.csv, a set of predictions that assume all and only female passengers survive, as an example of what a submission file should look like.\n",
    "\n",
    "### Data Dictionary\n",
    "\n",
    "| Variable | Definition | Key |\n",
    "|---|---|---|\n",
    "| survival | Survival | 0 = No, 1 = Yes |\n",
    "| pclass | Ticket class | 1 = 1st, 2 = 2nd, 3 = 3rd |\n",
    "| sex | Sex |  |\n",
    "| Age | Age in years |  |\n",
    "| sibsp | # of siblings / spouses aboard the Titanic |  |\n",
    "| parch | # of parents / children aboard the Titanic |  |\n",
    "| ticket | Ticket number |  |\n",
    "| fare | Passenger fare |  |\n",
    "| cabin | Cabin number |  |\n",
    "| embarked | Port of Embarkation | C = Cherbourg, Q = Queenstown, S = Southampton |\n",
    "\n",
    "### Variable Notes\n",
    "\n",
    "pclass: A proxy for socio-economic status (SES)\\\n",
    "1st = Upper\\\n",
    "2nd = Middle\\\n",
    "3rd = Lower\n",
    "\n",
    "age: Age is fractional if less than 1. If the age is estimated, is it in the form of xx.5\n",
    "\n",
    "sibsp: The dataset defines family relations in this way...\\\n",
    "Sibling = brother, sister, stepbrother, stepsister\\\n",
    "Spouse = husband, wife (mistresses and fiancés were ignored)\n",
    "\n",
    "parch: The dataset defines family relations in this way...\\\n",
    "Parent = mother, father\\\n",
    "Child = daughter, son, stepdaughter, stepson\\\n",
    "Some children travelled only with a nanny, therefore parch=0 for them."
   ]
  },
  {
   "cell_type": "markdown",
   "id": "54e52c7c",
   "metadata": {
    "execution": {
     "iopub.execute_input": "2022-10-23T15:55:18.614890Z",
     "iopub.status.busy": "2022-10-23T15:55:18.614439Z",
     "iopub.status.idle": "2022-10-23T15:55:18.622130Z",
     "shell.execute_reply": "2022-10-23T15:55:18.620410Z",
     "shell.execute_reply.started": "2022-10-23T15:55:18.614851Z"
    },
    "papermill": {
     "duration": 0.005184,
     "end_time": "2022-11-02T15:33:36.308553",
     "exception": false,
     "start_time": "2022-11-02T15:33:36.303369",
     "status": "completed"
    },
    "tags": []
   },
   "source": [
    "### SOLUTION\n",
    "---"
   ]
  },
  {
   "cell_type": "markdown",
   "id": "8428ff77",
   "metadata": {
    "papermill": {
     "duration": 0.005635,
     "end_time": "2022-11-02T15:33:36.319596",
     "exception": false,
     "start_time": "2022-11-02T15:33:36.313961",
     "status": "completed"
    },
    "tags": []
   },
   "source": [
    "# Importing Dataset"
   ]
  },
  {
   "cell_type": "code",
   "execution_count": 3,
   "id": "55ba00a0",
   "metadata": {
    "execution": {
     "iopub.execute_input": "2022-11-02T15:33:36.334381Z",
     "iopub.status.busy": "2022-11-02T15:33:36.333141Z",
     "iopub.status.idle": "2022-11-02T15:33:36.369079Z",
     "shell.execute_reply": "2022-11-02T15:33:36.367886Z"
    },
    "papermill": {
     "duration": 0.0462,
     "end_time": "2022-11-02T15:33:36.371778",
     "exception": false,
     "start_time": "2022-11-02T15:33:36.325578",
     "status": "completed"
    },
    "tags": []
   },
   "outputs": [],
   "source": [
    "train_data = pd.read_csv(\"/kaggle/input/titanic/train.csv\")\n",
    "test_data  = pd.read_csv(\"/kaggle/input/titanic/test.csv\")\n",
    "test_ids = test_data[\"PassengerId\"]"
   ]
  },
  {
   "cell_type": "markdown",
   "id": "54465358",
   "metadata": {
    "papermill": {
     "duration": 0.005041,
     "end_time": "2022-11-02T15:33:36.382335",
     "exception": false,
     "start_time": "2022-11-02T15:33:36.377294",
     "status": "completed"
    },
    "tags": []
   },
   "source": [
    "# Dataset Size and Shape"
   ]
  },
  {
   "cell_type": "code",
   "execution_count": 4,
   "id": "b3ab0b2c",
   "metadata": {
    "execution": {
     "iopub.execute_input": "2022-11-02T15:33:36.395801Z",
     "iopub.status.busy": "2022-11-02T15:33:36.393991Z",
     "iopub.status.idle": "2022-11-02T15:33:36.401281Z",
     "shell.execute_reply": "2022-11-02T15:33:36.399770Z"
    },
    "papermill": {
     "duration": 0.01572,
     "end_time": "2022-11-02T15:33:36.403414",
     "exception": false,
     "start_time": "2022-11-02T15:33:36.387694",
     "status": "completed"
    },
    "tags": []
   },
   "outputs": [
    {
     "name": "stdout",
     "output_type": "stream",
     "text": [
      "Train -> SIZE :  10692 \tSHAPE :  (891, 12)\n",
      "Test  -> SIZE :  4598 \tSHAPE :  (418, 11)\n"
     ]
    }
   ],
   "source": [
    "print(\"Train -> SIZE : \", train_data.size, \"\\tSHAPE : \", train_data.shape)\n",
    "print(\"Test  -> SIZE : \", test_data.size,  \"\\tSHAPE : \", test_data.shape)"
   ]
  },
  {
   "cell_type": "markdown",
   "id": "fedec96a",
   "metadata": {
    "papermill": {
     "duration": 0.005109,
     "end_time": "2022-11-02T15:33:36.413943",
     "exception": false,
     "start_time": "2022-11-02T15:33:36.408834",
     "status": "completed"
    },
    "tags": []
   },
   "source": [
    "# Dataset Exploration"
   ]
  },
  {
   "cell_type": "code",
   "execution_count": 5,
   "id": "b1e226b6",
   "metadata": {
    "execution": {
     "iopub.execute_input": "2022-11-02T15:33:36.427041Z",
     "iopub.status.busy": "2022-11-02T15:33:36.425265Z",
     "iopub.status.idle": "2022-11-02T15:33:36.457385Z",
     "shell.execute_reply": "2022-11-02T15:33:36.456209Z"
    },
    "papermill": {
     "duration": 0.040988,
     "end_time": "2022-11-02T15:33:36.460133",
     "exception": false,
     "start_time": "2022-11-02T15:33:36.419145",
     "status": "completed"
    },
    "tags": []
   },
   "outputs": [
    {
     "data": {
      "text/html": [
       "<div>\n",
       "<style scoped>\n",
       "    .dataframe tbody tr th:only-of-type {\n",
       "        vertical-align: middle;\n",
       "    }\n",
       "\n",
       "    .dataframe tbody tr th {\n",
       "        vertical-align: top;\n",
       "    }\n",
       "\n",
       "    .dataframe thead th {\n",
       "        text-align: right;\n",
       "    }\n",
       "</style>\n",
       "<table border=\"1\" class=\"dataframe\">\n",
       "  <thead>\n",
       "    <tr style=\"text-align: right;\">\n",
       "      <th></th>\n",
       "      <th>PassengerId</th>\n",
       "      <th>Survived</th>\n",
       "      <th>Pclass</th>\n",
       "      <th>Name</th>\n",
       "      <th>Sex</th>\n",
       "      <th>Age</th>\n",
       "      <th>SibSp</th>\n",
       "      <th>Parch</th>\n",
       "      <th>Ticket</th>\n",
       "      <th>Fare</th>\n",
       "      <th>Cabin</th>\n",
       "      <th>Embarked</th>\n",
       "    </tr>\n",
       "  </thead>\n",
       "  <tbody>\n",
       "    <tr>\n",
       "      <th>383</th>\n",
       "      <td>384</td>\n",
       "      <td>1</td>\n",
       "      <td>1</td>\n",
       "      <td>Holverson, Mrs. Alexander Oskar (Mary Aline To...</td>\n",
       "      <td>female</td>\n",
       "      <td>35.0</td>\n",
       "      <td>1</td>\n",
       "      <td>0</td>\n",
       "      <td>113789</td>\n",
       "      <td>52.0000</td>\n",
       "      <td>NaN</td>\n",
       "      <td>S</td>\n",
       "    </tr>\n",
       "    <tr>\n",
       "      <th>241</th>\n",
       "      <td>242</td>\n",
       "      <td>1</td>\n",
       "      <td>3</td>\n",
       "      <td>Murphy, Miss. Katherine \"Kate\"</td>\n",
       "      <td>female</td>\n",
       "      <td>NaN</td>\n",
       "      <td>1</td>\n",
       "      <td>0</td>\n",
       "      <td>367230</td>\n",
       "      <td>15.5000</td>\n",
       "      <td>NaN</td>\n",
       "      <td>Q</td>\n",
       "    </tr>\n",
       "    <tr>\n",
       "      <th>429</th>\n",
       "      <td>430</td>\n",
       "      <td>1</td>\n",
       "      <td>3</td>\n",
       "      <td>Pickard, Mr. Berk (Berk Trembisky)</td>\n",
       "      <td>male</td>\n",
       "      <td>32.0</td>\n",
       "      <td>0</td>\n",
       "      <td>0</td>\n",
       "      <td>SOTON/O.Q. 392078</td>\n",
       "      <td>8.0500</td>\n",
       "      <td>E10</td>\n",
       "      <td>S</td>\n",
       "    </tr>\n",
       "    <tr>\n",
       "      <th>122</th>\n",
       "      <td>123</td>\n",
       "      <td>0</td>\n",
       "      <td>2</td>\n",
       "      <td>Nasser, Mr. Nicholas</td>\n",
       "      <td>male</td>\n",
       "      <td>32.5</td>\n",
       "      <td>1</td>\n",
       "      <td>0</td>\n",
       "      <td>237736</td>\n",
       "      <td>30.0708</td>\n",
       "      <td>NaN</td>\n",
       "      <td>C</td>\n",
       "    </tr>\n",
       "    <tr>\n",
       "      <th>596</th>\n",
       "      <td>597</td>\n",
       "      <td>1</td>\n",
       "      <td>2</td>\n",
       "      <td>Leitch, Miss. Jessie Wills</td>\n",
       "      <td>female</td>\n",
       "      <td>NaN</td>\n",
       "      <td>0</td>\n",
       "      <td>0</td>\n",
       "      <td>248727</td>\n",
       "      <td>33.0000</td>\n",
       "      <td>NaN</td>\n",
       "      <td>S</td>\n",
       "    </tr>\n",
       "    <tr>\n",
       "      <th>374</th>\n",
       "      <td>375</td>\n",
       "      <td>0</td>\n",
       "      <td>3</td>\n",
       "      <td>Palsson, Miss. Stina Viola</td>\n",
       "      <td>female</td>\n",
       "      <td>3.0</td>\n",
       "      <td>3</td>\n",
       "      <td>1</td>\n",
       "      <td>349909</td>\n",
       "      <td>21.0750</td>\n",
       "      <td>NaN</td>\n",
       "      <td>S</td>\n",
       "    </tr>\n",
       "    <tr>\n",
       "      <th>135</th>\n",
       "      <td>136</td>\n",
       "      <td>0</td>\n",
       "      <td>2</td>\n",
       "      <td>Richard, Mr. Emile</td>\n",
       "      <td>male</td>\n",
       "      <td>23.0</td>\n",
       "      <td>0</td>\n",
       "      <td>0</td>\n",
       "      <td>SC/PARIS 2133</td>\n",
       "      <td>15.0458</td>\n",
       "      <td>NaN</td>\n",
       "      <td>C</td>\n",
       "    </tr>\n",
       "    <tr>\n",
       "      <th>126</th>\n",
       "      <td>127</td>\n",
       "      <td>0</td>\n",
       "      <td>3</td>\n",
       "      <td>McMahon, Mr. Martin</td>\n",
       "      <td>male</td>\n",
       "      <td>NaN</td>\n",
       "      <td>0</td>\n",
       "      <td>0</td>\n",
       "      <td>370372</td>\n",
       "      <td>7.7500</td>\n",
       "      <td>NaN</td>\n",
       "      <td>Q</td>\n",
       "    </tr>\n",
       "    <tr>\n",
       "      <th>285</th>\n",
       "      <td>286</td>\n",
       "      <td>0</td>\n",
       "      <td>3</td>\n",
       "      <td>Stankovic, Mr. Ivan</td>\n",
       "      <td>male</td>\n",
       "      <td>33.0</td>\n",
       "      <td>0</td>\n",
       "      <td>0</td>\n",
       "      <td>349239</td>\n",
       "      <td>8.6625</td>\n",
       "      <td>NaN</td>\n",
       "      <td>C</td>\n",
       "    </tr>\n",
       "    <tr>\n",
       "      <th>42</th>\n",
       "      <td>43</td>\n",
       "      <td>0</td>\n",
       "      <td>3</td>\n",
       "      <td>Kraeff, Mr. Theodor</td>\n",
       "      <td>male</td>\n",
       "      <td>NaN</td>\n",
       "      <td>0</td>\n",
       "      <td>0</td>\n",
       "      <td>349253</td>\n",
       "      <td>7.8958</td>\n",
       "      <td>NaN</td>\n",
       "      <td>C</td>\n",
       "    </tr>\n",
       "  </tbody>\n",
       "</table>\n",
       "</div>"
      ],
      "text/plain": [
       "     PassengerId  Survived  Pclass  \\\n",
       "383          384         1       1   \n",
       "241          242         1       3   \n",
       "429          430         1       3   \n",
       "122          123         0       2   \n",
       "596          597         1       2   \n",
       "374          375         0       3   \n",
       "135          136         0       2   \n",
       "126          127         0       3   \n",
       "285          286         0       3   \n",
       "42            43         0       3   \n",
       "\n",
       "                                                  Name     Sex   Age  SibSp  \\\n",
       "383  Holverson, Mrs. Alexander Oskar (Mary Aline To...  female  35.0      1   \n",
       "241                     Murphy, Miss. Katherine \"Kate\"  female   NaN      1   \n",
       "429                 Pickard, Mr. Berk (Berk Trembisky)    male  32.0      0   \n",
       "122                               Nasser, Mr. Nicholas    male  32.5      1   \n",
       "596                         Leitch, Miss. Jessie Wills  female   NaN      0   \n",
       "374                         Palsson, Miss. Stina Viola  female   3.0      3   \n",
       "135                                 Richard, Mr. Emile    male  23.0      0   \n",
       "126                                McMahon, Mr. Martin    male   NaN      0   \n",
       "285                                Stankovic, Mr. Ivan    male  33.0      0   \n",
       "42                                 Kraeff, Mr. Theodor    male   NaN      0   \n",
       "\n",
       "     Parch             Ticket     Fare Cabin Embarked  \n",
       "383      0             113789  52.0000   NaN        S  \n",
       "241      0             367230  15.5000   NaN        Q  \n",
       "429      0  SOTON/O.Q. 392078   8.0500   E10        S  \n",
       "122      0             237736  30.0708   NaN        C  \n",
       "596      0             248727  33.0000   NaN        S  \n",
       "374      1             349909  21.0750   NaN        S  \n",
       "135      0      SC/PARIS 2133  15.0458   NaN        C  \n",
       "126      0             370372   7.7500   NaN        Q  \n",
       "285      0             349239   8.6625   NaN        C  \n",
       "42       0             349253   7.8958   NaN        C  "
      ]
     },
     "execution_count": 5,
     "metadata": {},
     "output_type": "execute_result"
    }
   ],
   "source": [
    "train_data.sample(10)"
   ]
  },
  {
   "cell_type": "code",
   "execution_count": 6,
   "id": "81e5f8e2",
   "metadata": {
    "execution": {
     "iopub.execute_input": "2022-11-02T15:33:36.474026Z",
     "iopub.status.busy": "2022-11-02T15:33:36.473695Z",
     "iopub.status.idle": "2022-11-02T15:33:36.494339Z",
     "shell.execute_reply": "2022-11-02T15:33:36.493346Z"
    },
    "papermill": {
     "duration": 0.0297,
     "end_time": "2022-11-02T15:33:36.496758",
     "exception": false,
     "start_time": "2022-11-02T15:33:36.467058",
     "status": "completed"
    },
    "tags": []
   },
   "outputs": [
    {
     "data": {
      "text/html": [
       "<div>\n",
       "<style scoped>\n",
       "    .dataframe tbody tr th:only-of-type {\n",
       "        vertical-align: middle;\n",
       "    }\n",
       "\n",
       "    .dataframe tbody tr th {\n",
       "        vertical-align: top;\n",
       "    }\n",
       "\n",
       "    .dataframe thead th {\n",
       "        text-align: right;\n",
       "    }\n",
       "</style>\n",
       "<table border=\"1\" class=\"dataframe\">\n",
       "  <thead>\n",
       "    <tr style=\"text-align: right;\">\n",
       "      <th></th>\n",
       "      <th>PassengerId</th>\n",
       "      <th>Pclass</th>\n",
       "      <th>Name</th>\n",
       "      <th>Sex</th>\n",
       "      <th>Age</th>\n",
       "      <th>SibSp</th>\n",
       "      <th>Parch</th>\n",
       "      <th>Ticket</th>\n",
       "      <th>Fare</th>\n",
       "      <th>Cabin</th>\n",
       "      <th>Embarked</th>\n",
       "    </tr>\n",
       "  </thead>\n",
       "  <tbody>\n",
       "    <tr>\n",
       "      <th>28</th>\n",
       "      <td>920</td>\n",
       "      <td>1</td>\n",
       "      <td>Brady, Mr. John Bertram</td>\n",
       "      <td>male</td>\n",
       "      <td>41.0</td>\n",
       "      <td>0</td>\n",
       "      <td>0</td>\n",
       "      <td>113054</td>\n",
       "      <td>30.5000</td>\n",
       "      <td>A21</td>\n",
       "      <td>S</td>\n",
       "    </tr>\n",
       "    <tr>\n",
       "      <th>105</th>\n",
       "      <td>997</td>\n",
       "      <td>3</td>\n",
       "      <td>Holthen, Mr. Johan Martin</td>\n",
       "      <td>male</td>\n",
       "      <td>28.0</td>\n",
       "      <td>0</td>\n",
       "      <td>0</td>\n",
       "      <td>C 4001</td>\n",
       "      <td>22.5250</td>\n",
       "      <td>NaN</td>\n",
       "      <td>S</td>\n",
       "    </tr>\n",
       "    <tr>\n",
       "      <th>179</th>\n",
       "      <td>1071</td>\n",
       "      <td>1</td>\n",
       "      <td>Compton, Mrs. Alexander Taylor (Mary Eliza Ing...</td>\n",
       "      <td>female</td>\n",
       "      <td>64.0</td>\n",
       "      <td>0</td>\n",
       "      <td>2</td>\n",
       "      <td>PC 17756</td>\n",
       "      <td>83.1583</td>\n",
       "      <td>E45</td>\n",
       "      <td>C</td>\n",
       "    </tr>\n",
       "    <tr>\n",
       "      <th>130</th>\n",
       "      <td>1022</td>\n",
       "      <td>3</td>\n",
       "      <td>Spinner, Mr. Henry John</td>\n",
       "      <td>male</td>\n",
       "      <td>32.0</td>\n",
       "      <td>0</td>\n",
       "      <td>0</td>\n",
       "      <td>STON/OQ. 369943</td>\n",
       "      <td>8.0500</td>\n",
       "      <td>NaN</td>\n",
       "      <td>S</td>\n",
       "    </tr>\n",
       "    <tr>\n",
       "      <th>259</th>\n",
       "      <td>1151</td>\n",
       "      <td>3</td>\n",
       "      <td>Midtsjo, Mr. Karl Albert</td>\n",
       "      <td>male</td>\n",
       "      <td>21.0</td>\n",
       "      <td>0</td>\n",
       "      <td>0</td>\n",
       "      <td>345501</td>\n",
       "      <td>7.7750</td>\n",
       "      <td>NaN</td>\n",
       "      <td>S</td>\n",
       "    </tr>\n",
       "    <tr>\n",
       "      <th>115</th>\n",
       "      <td>1007</td>\n",
       "      <td>3</td>\n",
       "      <td>Chronopoulos, Mr. Demetrios</td>\n",
       "      <td>male</td>\n",
       "      <td>18.0</td>\n",
       "      <td>1</td>\n",
       "      <td>0</td>\n",
       "      <td>2680</td>\n",
       "      <td>14.4542</td>\n",
       "      <td>NaN</td>\n",
       "      <td>C</td>\n",
       "    </tr>\n",
       "    <tr>\n",
       "      <th>287</th>\n",
       "      <td>1179</td>\n",
       "      <td>1</td>\n",
       "      <td>Snyder, Mr. John Pillsbury</td>\n",
       "      <td>male</td>\n",
       "      <td>24.0</td>\n",
       "      <td>1</td>\n",
       "      <td>0</td>\n",
       "      <td>21228</td>\n",
       "      <td>82.2667</td>\n",
       "      <td>B45</td>\n",
       "      <td>S</td>\n",
       "    </tr>\n",
       "    <tr>\n",
       "      <th>94</th>\n",
       "      <td>986</td>\n",
       "      <td>1</td>\n",
       "      <td>Birnbaum, Mr. Jakob</td>\n",
       "      <td>male</td>\n",
       "      <td>25.0</td>\n",
       "      <td>0</td>\n",
       "      <td>0</td>\n",
       "      <td>13905</td>\n",
       "      <td>26.0000</td>\n",
       "      <td>NaN</td>\n",
       "      <td>C</td>\n",
       "    </tr>\n",
       "    <tr>\n",
       "      <th>162</th>\n",
       "      <td>1054</td>\n",
       "      <td>2</td>\n",
       "      <td>Wright, Miss. Marion</td>\n",
       "      <td>female</td>\n",
       "      <td>26.0</td>\n",
       "      <td>0</td>\n",
       "      <td>0</td>\n",
       "      <td>220844</td>\n",
       "      <td>13.5000</td>\n",
       "      <td>NaN</td>\n",
       "      <td>S</td>\n",
       "    </tr>\n",
       "    <tr>\n",
       "      <th>39</th>\n",
       "      <td>931</td>\n",
       "      <td>3</td>\n",
       "      <td>Hee, Mr. Ling</td>\n",
       "      <td>male</td>\n",
       "      <td>NaN</td>\n",
       "      <td>0</td>\n",
       "      <td>0</td>\n",
       "      <td>1601</td>\n",
       "      <td>56.4958</td>\n",
       "      <td>NaN</td>\n",
       "      <td>S</td>\n",
       "    </tr>\n",
       "  </tbody>\n",
       "</table>\n",
       "</div>"
      ],
      "text/plain": [
       "     PassengerId  Pclass                                               Name  \\\n",
       "28           920       1                            Brady, Mr. John Bertram   \n",
       "105          997       3                          Holthen, Mr. Johan Martin   \n",
       "179         1071       1  Compton, Mrs. Alexander Taylor (Mary Eliza Ing...   \n",
       "130         1022       3                            Spinner, Mr. Henry John   \n",
       "259         1151       3                           Midtsjo, Mr. Karl Albert   \n",
       "115         1007       3                        Chronopoulos, Mr. Demetrios   \n",
       "287         1179       1                         Snyder, Mr. John Pillsbury   \n",
       "94           986       1                                Birnbaum, Mr. Jakob   \n",
       "162         1054       2                               Wright, Miss. Marion   \n",
       "39           931       3                                      Hee, Mr. Ling   \n",
       "\n",
       "        Sex   Age  SibSp  Parch           Ticket     Fare Cabin Embarked  \n",
       "28     male  41.0      0      0           113054  30.5000   A21        S  \n",
       "105    male  28.0      0      0           C 4001  22.5250   NaN        S  \n",
       "179  female  64.0      0      2         PC 17756  83.1583   E45        C  \n",
       "130    male  32.0      0      0  STON/OQ. 369943   8.0500   NaN        S  \n",
       "259    male  21.0      0      0           345501   7.7750   NaN        S  \n",
       "115    male  18.0      1      0             2680  14.4542   NaN        C  \n",
       "287    male  24.0      1      0            21228  82.2667   B45        S  \n",
       "94     male  25.0      0      0            13905  26.0000   NaN        C  \n",
       "162  female  26.0      0      0           220844  13.5000   NaN        S  \n",
       "39     male   NaN      0      0             1601  56.4958   NaN        S  "
      ]
     },
     "execution_count": 6,
     "metadata": {},
     "output_type": "execute_result"
    }
   ],
   "source": [
    "test_data.sample(10)"
   ]
  },
  {
   "cell_type": "markdown",
   "id": "05718009",
   "metadata": {
    "papermill": {
     "duration": 0.006154,
     "end_time": "2022-11-02T15:33:36.509008",
     "exception": false,
     "start_time": "2022-11-02T15:33:36.502854",
     "status": "completed"
    },
    "tags": []
   },
   "source": [
    "# Cleaning Dataset"
   ]
  },
  {
   "cell_type": "code",
   "execution_count": 7,
   "id": "d74a9dbc",
   "metadata": {
    "execution": {
     "iopub.execute_input": "2022-11-02T15:33:36.523300Z",
     "iopub.status.busy": "2022-11-02T15:33:36.521552Z",
     "iopub.status.idle": "2022-11-02T15:33:36.538162Z",
     "shell.execute_reply": "2022-11-02T15:33:36.537193Z"
    },
    "papermill": {
     "duration": 0.025737,
     "end_time": "2022-11-02T15:33:36.540445",
     "exception": false,
     "start_time": "2022-11-02T15:33:36.514708",
     "status": "completed"
    },
    "tags": []
   },
   "outputs": [],
   "source": [
    "# Creating Function to Drop Columns from the DataFrame\n",
    "# and Fill missing rows where data in not present\n",
    "\n",
    "def dataset_cleaner(data):\n",
    "    # Dropping Following columns as they will be unnecessary for predictions\n",
    "    data = data.drop([\"Ticket\", \"Cabin\", \"Name\", \"PassengerId\"], axis=1)\n",
    "\n",
    "    # Filling missing Values\n",
    "    cols = [\"SibSp\", \"Parch\", \"Fare\", \"Age\"]\n",
    "    for col in cols:\n",
    "        data[col].fillna(data[col].median(), inplace=True)\n",
    "    \n",
    "    # U --> Unknown Token\n",
    "    data.Embarked.fillna(\"U\", inplace=True)\n",
    "\n",
    "    return data\n",
    "\n",
    "\n",
    "train_data = dataset_cleaner(train_data)\n",
    "test_data  = dataset_cleaner(test_data)"
   ]
  },
  {
   "cell_type": "code",
   "execution_count": 8,
   "id": "31928b46",
   "metadata": {
    "execution": {
     "iopub.execute_input": "2022-11-02T15:33:36.555141Z",
     "iopub.status.busy": "2022-11-02T15:33:36.553621Z",
     "iopub.status.idle": "2022-11-02T15:33:36.560101Z",
     "shell.execute_reply": "2022-11-02T15:33:36.558637Z"
    },
    "papermill": {
     "duration": 0.015686,
     "end_time": "2022-11-02T15:33:36.562269",
     "exception": false,
     "start_time": "2022-11-02T15:33:36.546583",
     "status": "completed"
    },
    "tags": []
   },
   "outputs": [
    {
     "name": "stdout",
     "output_type": "stream",
     "text": [
      "Train -> SIZE :  7128 \tSHAPE :  (891, 8)\n",
      "Test  -> SIZE :  2926 \tSHAPE :  (418, 7)\n"
     ]
    }
   ],
   "source": [
    "print(\"Train -> SIZE : \", train_data.size, \"\\tSHAPE : \", train_data.shape)\n",
    "print(\"Test  -> SIZE : \", test_data.size,  \"\\tSHAPE : \", test_data.shape)"
   ]
  },
  {
   "cell_type": "code",
   "execution_count": 9,
   "id": "8651a26d",
   "metadata": {
    "execution": {
     "iopub.execute_input": "2022-11-02T15:33:36.575740Z",
     "iopub.status.busy": "2022-11-02T15:33:36.575026Z",
     "iopub.status.idle": "2022-11-02T15:33:36.590785Z",
     "shell.execute_reply": "2022-11-02T15:33:36.589670Z"
    },
    "papermill": {
     "duration": 0.024953,
     "end_time": "2022-11-02T15:33:36.593102",
     "exception": false,
     "start_time": "2022-11-02T15:33:36.568149",
     "status": "completed"
    },
    "tags": []
   },
   "outputs": [
    {
     "data": {
      "text/html": [
       "<div>\n",
       "<style scoped>\n",
       "    .dataframe tbody tr th:only-of-type {\n",
       "        vertical-align: middle;\n",
       "    }\n",
       "\n",
       "    .dataframe tbody tr th {\n",
       "        vertical-align: top;\n",
       "    }\n",
       "\n",
       "    .dataframe thead th {\n",
       "        text-align: right;\n",
       "    }\n",
       "</style>\n",
       "<table border=\"1\" class=\"dataframe\">\n",
       "  <thead>\n",
       "    <tr style=\"text-align: right;\">\n",
       "      <th></th>\n",
       "      <th>Survived</th>\n",
       "      <th>Pclass</th>\n",
       "      <th>Sex</th>\n",
       "      <th>Age</th>\n",
       "      <th>SibSp</th>\n",
       "      <th>Parch</th>\n",
       "      <th>Fare</th>\n",
       "      <th>Embarked</th>\n",
       "    </tr>\n",
       "  </thead>\n",
       "  <tbody>\n",
       "    <tr>\n",
       "      <th>443</th>\n",
       "      <td>1</td>\n",
       "      <td>2</td>\n",
       "      <td>female</td>\n",
       "      <td>28.0</td>\n",
       "      <td>0</td>\n",
       "      <td>0</td>\n",
       "      <td>13.0000</td>\n",
       "      <td>S</td>\n",
       "    </tr>\n",
       "    <tr>\n",
       "      <th>795</th>\n",
       "      <td>0</td>\n",
       "      <td>2</td>\n",
       "      <td>male</td>\n",
       "      <td>39.0</td>\n",
       "      <td>0</td>\n",
       "      <td>0</td>\n",
       "      <td>13.0000</td>\n",
       "      <td>S</td>\n",
       "    </tr>\n",
       "    <tr>\n",
       "      <th>715</th>\n",
       "      <td>0</td>\n",
       "      <td>3</td>\n",
       "      <td>male</td>\n",
       "      <td>19.0</td>\n",
       "      <td>0</td>\n",
       "      <td>0</td>\n",
       "      <td>7.6500</td>\n",
       "      <td>S</td>\n",
       "    </tr>\n",
       "    <tr>\n",
       "      <th>368</th>\n",
       "      <td>1</td>\n",
       "      <td>3</td>\n",
       "      <td>female</td>\n",
       "      <td>28.0</td>\n",
       "      <td>0</td>\n",
       "      <td>0</td>\n",
       "      <td>7.7500</td>\n",
       "      <td>Q</td>\n",
       "    </tr>\n",
       "    <tr>\n",
       "      <th>272</th>\n",
       "      <td>1</td>\n",
       "      <td>2</td>\n",
       "      <td>female</td>\n",
       "      <td>41.0</td>\n",
       "      <td>0</td>\n",
       "      <td>1</td>\n",
       "      <td>19.5000</td>\n",
       "      <td>S</td>\n",
       "    </tr>\n",
       "    <tr>\n",
       "      <th>623</th>\n",
       "      <td>0</td>\n",
       "      <td>3</td>\n",
       "      <td>male</td>\n",
       "      <td>21.0</td>\n",
       "      <td>0</td>\n",
       "      <td>0</td>\n",
       "      <td>7.8542</td>\n",
       "      <td>S</td>\n",
       "    </tr>\n",
       "    <tr>\n",
       "      <th>880</th>\n",
       "      <td>1</td>\n",
       "      <td>2</td>\n",
       "      <td>female</td>\n",
       "      <td>25.0</td>\n",
       "      <td>0</td>\n",
       "      <td>1</td>\n",
       "      <td>26.0000</td>\n",
       "      <td>S</td>\n",
       "    </tr>\n",
       "    <tr>\n",
       "      <th>233</th>\n",
       "      <td>1</td>\n",
       "      <td>3</td>\n",
       "      <td>female</td>\n",
       "      <td>5.0</td>\n",
       "      <td>4</td>\n",
       "      <td>2</td>\n",
       "      <td>31.3875</td>\n",
       "      <td>S</td>\n",
       "    </tr>\n",
       "    <tr>\n",
       "      <th>478</th>\n",
       "      <td>0</td>\n",
       "      <td>3</td>\n",
       "      <td>male</td>\n",
       "      <td>22.0</td>\n",
       "      <td>0</td>\n",
       "      <td>0</td>\n",
       "      <td>7.5208</td>\n",
       "      <td>S</td>\n",
       "    </tr>\n",
       "    <tr>\n",
       "      <th>665</th>\n",
       "      <td>0</td>\n",
       "      <td>2</td>\n",
       "      <td>male</td>\n",
       "      <td>32.0</td>\n",
       "      <td>2</td>\n",
       "      <td>0</td>\n",
       "      <td>73.5000</td>\n",
       "      <td>S</td>\n",
       "    </tr>\n",
       "  </tbody>\n",
       "</table>\n",
       "</div>"
      ],
      "text/plain": [
       "     Survived  Pclass     Sex   Age  SibSp  Parch     Fare Embarked\n",
       "443         1       2  female  28.0      0      0  13.0000        S\n",
       "795         0       2    male  39.0      0      0  13.0000        S\n",
       "715         0       3    male  19.0      0      0   7.6500        S\n",
       "368         1       3  female  28.0      0      0   7.7500        Q\n",
       "272         1       2  female  41.0      0      1  19.5000        S\n",
       "623         0       3    male  21.0      0      0   7.8542        S\n",
       "880         1       2  female  25.0      0      1  26.0000        S\n",
       "233         1       3  female   5.0      4      2  31.3875        S\n",
       "478         0       3    male  22.0      0      0   7.5208        S\n",
       "665         0       2    male  32.0      2      0  73.5000        S"
      ]
     },
     "execution_count": 9,
     "metadata": {},
     "output_type": "execute_result"
    }
   ],
   "source": [
    "train_data.sample(10)"
   ]
  },
  {
   "cell_type": "code",
   "execution_count": 10,
   "id": "b2c57e49",
   "metadata": {
    "execution": {
     "iopub.execute_input": "2022-11-02T15:33:36.608053Z",
     "iopub.status.busy": "2022-11-02T15:33:36.607124Z",
     "iopub.status.idle": "2022-11-02T15:33:36.622449Z",
     "shell.execute_reply": "2022-11-02T15:33:36.621289Z"
    },
    "papermill": {
     "duration": 0.025236,
     "end_time": "2022-11-02T15:33:36.624911",
     "exception": false,
     "start_time": "2022-11-02T15:33:36.599675",
     "status": "completed"
    },
    "tags": []
   },
   "outputs": [
    {
     "data": {
      "text/html": [
       "<div>\n",
       "<style scoped>\n",
       "    .dataframe tbody tr th:only-of-type {\n",
       "        vertical-align: middle;\n",
       "    }\n",
       "\n",
       "    .dataframe tbody tr th {\n",
       "        vertical-align: top;\n",
       "    }\n",
       "\n",
       "    .dataframe thead th {\n",
       "        text-align: right;\n",
       "    }\n",
       "</style>\n",
       "<table border=\"1\" class=\"dataframe\">\n",
       "  <thead>\n",
       "    <tr style=\"text-align: right;\">\n",
       "      <th></th>\n",
       "      <th>Pclass</th>\n",
       "      <th>Sex</th>\n",
       "      <th>Age</th>\n",
       "      <th>SibSp</th>\n",
       "      <th>Parch</th>\n",
       "      <th>Fare</th>\n",
       "      <th>Embarked</th>\n",
       "    </tr>\n",
       "  </thead>\n",
       "  <tbody>\n",
       "    <tr>\n",
       "      <th>408</th>\n",
       "      <td>3</td>\n",
       "      <td>female</td>\n",
       "      <td>27.0</td>\n",
       "      <td>0</td>\n",
       "      <td>0</td>\n",
       "      <td>7.7208</td>\n",
       "      <td>Q</td>\n",
       "    </tr>\n",
       "    <tr>\n",
       "      <th>335</th>\n",
       "      <td>1</td>\n",
       "      <td>male</td>\n",
       "      <td>30.0</td>\n",
       "      <td>0</td>\n",
       "      <td>0</td>\n",
       "      <td>26.0000</td>\n",
       "      <td>S</td>\n",
       "    </tr>\n",
       "    <tr>\n",
       "      <th>91</th>\n",
       "      <td>3</td>\n",
       "      <td>male</td>\n",
       "      <td>27.0</td>\n",
       "      <td>0</td>\n",
       "      <td>0</td>\n",
       "      <td>7.7750</td>\n",
       "      <td>S</td>\n",
       "    </tr>\n",
       "    <tr>\n",
       "      <th>370</th>\n",
       "      <td>2</td>\n",
       "      <td>male</td>\n",
       "      <td>21.0</td>\n",
       "      <td>1</td>\n",
       "      <td>0</td>\n",
       "      <td>11.5000</td>\n",
       "      <td>S</td>\n",
       "    </tr>\n",
       "    <tr>\n",
       "      <th>126</th>\n",
       "      <td>3</td>\n",
       "      <td>male</td>\n",
       "      <td>22.0</td>\n",
       "      <td>0</td>\n",
       "      <td>0</td>\n",
       "      <td>7.7958</td>\n",
       "      <td>S</td>\n",
       "    </tr>\n",
       "    <tr>\n",
       "      <th>5</th>\n",
       "      <td>3</td>\n",
       "      <td>male</td>\n",
       "      <td>14.0</td>\n",
       "      <td>0</td>\n",
       "      <td>0</td>\n",
       "      <td>9.2250</td>\n",
       "      <td>S</td>\n",
       "    </tr>\n",
       "    <tr>\n",
       "      <th>81</th>\n",
       "      <td>1</td>\n",
       "      <td>male</td>\n",
       "      <td>67.0</td>\n",
       "      <td>1</td>\n",
       "      <td>0</td>\n",
       "      <td>221.7792</td>\n",
       "      <td>S</td>\n",
       "    </tr>\n",
       "    <tr>\n",
       "      <th>23</th>\n",
       "      <td>1</td>\n",
       "      <td>male</td>\n",
       "      <td>21.0</td>\n",
       "      <td>0</td>\n",
       "      <td>1</td>\n",
       "      <td>61.3792</td>\n",
       "      <td>C</td>\n",
       "    </tr>\n",
       "    <tr>\n",
       "      <th>314</th>\n",
       "      <td>1</td>\n",
       "      <td>female</td>\n",
       "      <td>55.0</td>\n",
       "      <td>0</td>\n",
       "      <td>0</td>\n",
       "      <td>135.6333</td>\n",
       "      <td>C</td>\n",
       "    </tr>\n",
       "    <tr>\n",
       "      <th>148</th>\n",
       "      <td>1</td>\n",
       "      <td>male</td>\n",
       "      <td>27.0</td>\n",
       "      <td>0</td>\n",
       "      <td>0</td>\n",
       "      <td>26.5500</td>\n",
       "      <td>S</td>\n",
       "    </tr>\n",
       "  </tbody>\n",
       "</table>\n",
       "</div>"
      ],
      "text/plain": [
       "     Pclass     Sex   Age  SibSp  Parch      Fare Embarked\n",
       "408       3  female  27.0      0      0    7.7208        Q\n",
       "335       1    male  30.0      0      0   26.0000        S\n",
       "91        3    male  27.0      0      0    7.7750        S\n",
       "370       2    male  21.0      1      0   11.5000        S\n",
       "126       3    male  22.0      0      0    7.7958        S\n",
       "5         3    male  14.0      0      0    9.2250        S\n",
       "81        1    male  67.0      1      0  221.7792        S\n",
       "23        1    male  21.0      0      1   61.3792        C\n",
       "314       1  female  55.0      0      0  135.6333        C\n",
       "148       1    male  27.0      0      0   26.5500        S"
      ]
     },
     "execution_count": 10,
     "metadata": {},
     "output_type": "execute_result"
    }
   ],
   "source": [
    "test_data.sample(10)"
   ]
  },
  {
   "cell_type": "code",
   "execution_count": 11,
   "id": "2e89e5e6",
   "metadata": {
    "execution": {
     "iopub.execute_input": "2022-11-02T15:33:36.640057Z",
     "iopub.status.busy": "2022-11-02T15:33:36.639158Z",
     "iopub.status.idle": "2022-11-02T15:33:37.565580Z",
     "shell.execute_reply": "2022-11-02T15:33:37.564317Z"
    },
    "papermill": {
     "duration": 0.936655,
     "end_time": "2022-11-02T15:33:37.568334",
     "exception": false,
     "start_time": "2022-11-02T15:33:36.631679",
     "status": "completed"
    },
    "tags": []
   },
   "outputs": [],
   "source": [
    "from sklearn import preprocessing\n",
    "lab_enc = preprocessing.LabelEncoder()\n",
    "\n",
    "def encoder(data):\n",
    "    # Encoding the following Columns values to encoded integers\n",
    "    cols = [\"Sex\", \"Embarked\"]\n",
    "\n",
    "    for col in cols:\n",
    "        data[col] = lab_enc.fit_transform(data[col])\n",
    "    \n",
    "\n",
    "encoder(train_data)\n",
    "encoder(test_data)        "
   ]
  },
  {
   "cell_type": "markdown",
   "id": "4f55a3b6",
   "metadata": {
    "papermill": {
     "duration": 0.006111,
     "end_time": "2022-11-02T15:33:37.581179",
     "exception": false,
     "start_time": "2022-11-02T15:33:37.575068",
     "status": "completed"
    },
    "tags": []
   },
   "source": [
    "# Training Model"
   ]
  },
  {
   "cell_type": "code",
   "execution_count": 12,
   "id": "73eec081",
   "metadata": {
    "execution": {
     "iopub.execute_input": "2022-11-02T15:33:37.596571Z",
     "iopub.status.busy": "2022-11-02T15:33:37.594850Z",
     "iopub.status.idle": "2022-11-02T15:33:37.700981Z",
     "shell.execute_reply": "2022-11-02T15:33:37.699970Z"
    },
    "papermill": {
     "duration": 0.116306,
     "end_time": "2022-11-02T15:33:37.703665",
     "exception": false,
     "start_time": "2022-11-02T15:33:37.587359",
     "status": "completed"
    },
    "tags": []
   },
   "outputs": [],
   "source": [
    "from sklearn.linear_model import LogisticRegression\n",
    "from sklearn.model_selection import train_test_split\n",
    "\n",
    "x = train_data.drop(\"Survived\", axis=1)\n",
    "y = train_data[\"Survived\"]\n",
    "\n",
    "x_train, x_test, y_train, y_test = train_test_split(x, y, test_size=0.2, random_state=42)"
   ]
  },
  {
   "cell_type": "code",
   "execution_count": 13,
   "id": "5dcb61fb",
   "metadata": {
    "execution": {
     "iopub.execute_input": "2022-11-02T15:33:37.718089Z",
     "iopub.status.busy": "2022-11-02T15:33:37.717765Z",
     "iopub.status.idle": "2022-11-02T15:33:37.764589Z",
     "shell.execute_reply": "2022-11-02T15:33:37.763609Z"
    },
    "papermill": {
     "duration": 0.056825,
     "end_time": "2022-11-02T15:33:37.767035",
     "exception": false,
     "start_time": "2022-11-02T15:33:37.710210",
     "status": "completed"
    },
    "tags": []
   },
   "outputs": [],
   "source": [
    "classifier = LogisticRegression(random_state=3, max_iter=3000)\n",
    "classifier = classifier.fit(x_train, y_train)\n",
    "\n",
    "pred = classifier.predict(x_test)"
   ]
  },
  {
   "cell_type": "code",
   "execution_count": 14,
   "id": "8e27d041",
   "metadata": {
    "execution": {
     "iopub.execute_input": "2022-11-02T15:33:37.780906Z",
     "iopub.status.busy": "2022-11-02T15:33:37.780602Z",
     "iopub.status.idle": "2022-11-02T15:33:37.789396Z",
     "shell.execute_reply": "2022-11-02T15:33:37.788369Z"
    },
    "papermill": {
     "duration": 0.018476,
     "end_time": "2022-11-02T15:33:37.791787",
     "exception": false,
     "start_time": "2022-11-02T15:33:37.773311",
     "status": "completed"
    },
    "tags": []
   },
   "outputs": [
    {
     "name": "stdout",
     "output_type": "stream",
     "text": [
      "Classifier Accuracy : 0.8100558659217877\n"
     ]
    }
   ],
   "source": [
    "from sklearn.metrics import accuracy_score\n",
    "\n",
    "print(\"Classifier Accuracy :\",accuracy_score(y_test, pred))"
   ]
  },
  {
   "cell_type": "markdown",
   "id": "f2142f03",
   "metadata": {
    "papermill": {
     "duration": 0.00622,
     "end_time": "2022-11-02T15:33:37.804278",
     "exception": false,
     "start_time": "2022-11-02T15:33:37.798058",
     "status": "completed"
    },
    "tags": []
   },
   "source": [
    "# Exporting Predictions"
   ]
  },
  {
   "cell_type": "code",
   "execution_count": 15,
   "id": "0596b98d",
   "metadata": {
    "execution": {
     "iopub.execute_input": "2022-11-02T15:33:37.818587Z",
     "iopub.status.busy": "2022-11-02T15:33:37.818203Z",
     "iopub.status.idle": "2022-11-02T15:33:37.829355Z",
     "shell.execute_reply": "2022-11-02T15:33:37.828351Z"
    },
    "papermill": {
     "duration": 0.020821,
     "end_time": "2022-11-02T15:33:37.831491",
     "exception": false,
     "start_time": "2022-11-02T15:33:37.810670",
     "status": "completed"
    },
    "tags": []
   },
   "outputs": [],
   "source": [
    "submit_pred = classifier.predict(test_data)\n",
    "\n",
    "submit_df = pd.DataFrame({\"PassengerId\":test_ids.values,\n",
    "                        \"Survived\": submit_pred})\n",
    "\n",
    "submit_df.to_csv(\"submission.csv\", index=False)\n"
   ]
  },
  {
   "cell_type": "code",
   "execution_count": null,
   "id": "c3314486",
   "metadata": {
    "papermill": {
     "duration": 0.00607,
     "end_time": "2022-11-02T15:33:37.844427",
     "exception": false,
     "start_time": "2022-11-02T15:33:37.838357",
     "status": "completed"
    },
    "tags": []
   },
   "outputs": [],
   "source": []
  }
 ],
 "metadata": {
  "kernelspec": {
   "display_name": "Python 3",
   "language": "python",
   "name": "python3"
  },
  "language_info": {
   "codemirror_mode": {
    "name": "ipython",
    "version": 3
   },
   "file_extension": ".py",
   "mimetype": "text/x-python",
   "name": "python",
   "nbconvert_exporter": "python",
   "pygments_lexer": "ipython3",
   "version": "3.7.12"
  },
  "papermill": {
   "default_parameters": {},
   "duration": 11.65581,
   "end_time": "2022-11-02T15:33:38.472474",
   "environment_variables": {},
   "exception": null,
   "input_path": "__notebook__.ipynb",
   "output_path": "__notebook__.ipynb",
   "parameters": {},
   "start_time": "2022-11-02T15:33:26.816664",
   "version": "2.3.4"
  }
 },
 "nbformat": 4,
 "nbformat_minor": 5
}
