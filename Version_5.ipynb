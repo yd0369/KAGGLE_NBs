{
 "cells": [
  {
   "cell_type": "code",
   "execution_count": 1,
   "id": "9e57f258",
   "metadata": {
    "_cell_guid": "b1076dfc-b9ad-4769-8c92-a6c4dae69d19",
    "_uuid": "8f2839f25d086af736a60e9eeb907d3b93b6e0e5",
    "execution": {
     "iopub.execute_input": "2023-02-17T16:06:29.710700Z",
     "iopub.status.busy": "2023-02-17T16:06:29.710203Z",
     "iopub.status.idle": "2023-02-17T16:06:36.512843Z",
     "shell.execute_reply": "2023-02-17T16:06:36.511850Z"
    },
    "papermill": {
     "duration": 6.810295,
     "end_time": "2023-02-17T16:06:36.515383",
     "exception": false,
     "start_time": "2023-02-17T16:06:29.705088",
     "status": "completed"
    },
    "tags": []
   },
   "outputs": [
    {
     "data": {
      "text/plain": [
       "'2.9.2'"
      ]
     },
     "execution_count": 1,
     "metadata": {},
     "output_type": "execute_result"
    }
   ],
   "source": [
    "import tensorflow as tf\n",
    "tf.__version__"
   ]
  },
  {
   "cell_type": "markdown",
   "id": "14d5122c",
   "metadata": {
    "papermill": {
     "duration": 0.002534,
     "end_time": "2023-02-17T16:06:36.520644",
     "exception": false,
     "start_time": "2023-02-17T16:06:36.518110",
     "status": "completed"
    },
    "tags": []
   },
   "source": [
    "## Importing Libraries"
   ]
  },
  {
   "cell_type": "code",
   "execution_count": 2,
   "id": "efb7f1fa",
   "metadata": {
    "execution": {
     "iopub.execute_input": "2023-02-17T16:06:36.527585Z",
     "iopub.status.busy": "2023-02-17T16:06:36.526368Z",
     "iopub.status.idle": "2023-02-17T16:06:36.534569Z",
     "shell.execute_reply": "2023-02-17T16:06:36.533733Z"
    },
    "papermill": {
     "duration": 0.013595,
     "end_time": "2023-02-17T16:06:36.536648",
     "exception": false,
     "start_time": "2023-02-17T16:06:36.523053",
     "status": "completed"
    },
    "tags": []
   },
   "outputs": [],
   "source": [
    "from tensorflow.keras.layers import Input, Lambda, Dense, Flatten\n",
    "from tensorflow.keras.models import Model, Sequential\n",
    "from tensorflow.keras.applications.inception_v3 import InceptionV3, preprocess_input\n",
    "from tensorflow.keras.preprocessing import image\n",
    "from tensorflow.keras.preprocessing.image import ImageDataGenerator, load_img\n",
    "from glob import glob\n",
    "import numpy as np\n",
    "import pandas as pd"
   ]
  },
  {
   "cell_type": "code",
   "execution_count": 3,
   "id": "69438a40",
   "metadata": {
    "execution": {
     "iopub.execute_input": "2023-02-17T16:06:36.545244Z",
     "iopub.status.busy": "2023-02-17T16:06:36.544972Z",
     "iopub.status.idle": "2023-02-17T16:06:36.549423Z",
     "shell.execute_reply": "2023-02-17T16:06:36.548266Z"
    },
    "papermill": {
     "duration": 0.012026,
     "end_time": "2023-02-17T16:06:36.551374",
     "exception": false,
     "start_time": "2023-02-17T16:06:36.539348",
     "status": "completed"
    },
    "tags": []
   },
   "outputs": [],
   "source": [
    "root_dir = '/kaggle/input/tomato/'\n",
    "\n",
    "train_data = root_dir + 'train'\n",
    "valid_data = root_dir + 'test'"
   ]
  },
  {
   "cell_type": "code",
   "execution_count": 4,
   "id": "44d0df71",
   "metadata": {
    "execution": {
     "iopub.execute_input": "2023-02-17T16:06:36.558212Z",
     "iopub.status.busy": "2023-02-17T16:06:36.557364Z",
     "iopub.status.idle": "2023-02-17T16:06:36.562065Z",
     "shell.execute_reply": "2023-02-17T16:06:36.561228Z"
    },
    "papermill": {
     "duration": 0.010252,
     "end_time": "2023-02-17T16:06:36.564012",
     "exception": false,
     "start_time": "2023-02-17T16:06:36.553760",
     "status": "completed"
    },
    "tags": []
   },
   "outputs": [],
   "source": [
    "# Resize the images to this :\n",
    "IMAGE_SIZE = [250,250]"
   ]
  },
  {
   "cell_type": "markdown",
   "id": "dde2b889",
   "metadata": {
    "papermill": {
     "duration": 0.002323,
     "end_time": "2023-02-17T16:06:36.568746",
     "exception": false,
     "start_time": "2023-02-17T16:06:36.566423",
     "status": "completed"
    },
    "tags": []
   },
   "source": [
    "## Importing the Inception V3 Model"
   ]
  },
  {
   "cell_type": "code",
   "execution_count": 5,
   "id": "25429006",
   "metadata": {
    "execution": {
     "iopub.execute_input": "2023-02-17T16:06:36.575369Z",
     "iopub.status.busy": "2023-02-17T16:06:36.574577Z",
     "iopub.status.idle": "2023-02-17T16:06:41.740121Z",
     "shell.execute_reply": "2023-02-17T16:06:41.738911Z"
    },
    "papermill": {
     "duration": 5.171321,
     "end_time": "2023-02-17T16:06:41.742764",
     "exception": false,
     "start_time": "2023-02-17T16:06:36.571443",
     "status": "completed"
    },
    "tags": []
   },
   "outputs": [
    {
     "name": "stdout",
     "output_type": "stream",
     "text": [
      "Downloading data from https://storage.googleapis.com/tensorflow/keras-applications/inception_v3/inception_v3_weights_tf_dim_ordering_tf_kernels_notop.h5\n",
      "87910968/87910968 [==============================] - 0s 0us/step\n"
     ]
    }
   ],
   "source": [
    "# Import the Inception V3 Library as shown below and add preprocessing layer to the front of it\n",
    "\n",
    "\n",
    "inception = InceptionV3(\n",
    "                input_shape=IMAGE_SIZE + [3], # 1\n",
    "                weights= 'imagenet',          # 2\n",
    "                include_top=False             # 3\n",
    "            )\n",
    "\n",
    "# 1 - Here we will be using imagenet weights\n",
    "# 2 - We are not going to use first and last layers"
   ]
  },
  {
   "cell_type": "code",
   "execution_count": 6,
   "id": "149480ee",
   "metadata": {
    "execution": {
     "iopub.execute_input": "2023-02-17T16:06:41.752426Z",
     "iopub.status.busy": "2023-02-17T16:06:41.752084Z",
     "iopub.status.idle": "2023-02-17T16:06:41.764384Z",
     "shell.execute_reply": "2023-02-17T16:06:41.763431Z"
    },
    "papermill": {
     "duration": 0.01915,
     "end_time": "2023-02-17T16:06:41.766215",
     "exception": false,
     "start_time": "2023-02-17T16:06:41.747065",
     "status": "completed"
    },
    "tags": []
   },
   "outputs": [],
   "source": [
    "# Don't Train Existing Weights\n",
    "for layer in inception.layers:\n",
    "    layer.trainable = False"
   ]
  },
  {
   "cell_type": "code",
   "execution_count": null,
   "id": "b6fa8409",
   "metadata": {
    "papermill": {
     "duration": 0.00291,
     "end_time": "2023-02-17T16:06:41.772431",
     "exception": false,
     "start_time": "2023-02-17T16:06:41.769521",
     "status": "completed"
    },
    "tags": []
   },
   "outputs": [],
   "source": []
  }
 ],
 "metadata": {
  "kernelspec": {
   "display_name": "Python 3",
   "language": "python",
   "name": "python3"
  },
  "language_info": {
   "codemirror_mode": {
    "name": "ipython",
    "version": 3
   },
   "file_extension": ".py",
   "mimetype": "text/x-python",
   "name": "python",
   "nbconvert_exporter": "python",
   "pygments_lexer": "ipython3",
   "version": "3.7.12"
  },
  "papermill": {
   "default_parameters": {},
   "duration": 23.543843,
   "end_time": "2023-02-17T16:06:45.237032",
   "environment_variables": {},
   "exception": null,
   "input_path": "__notebook__.ipynb",
   "output_path": "__notebook__.ipynb",
   "parameters": {},
   "start_time": "2023-02-17T16:06:21.693189",
   "version": "2.3.4"
  }
 },
 "nbformat": 4,
 "nbformat_minor": 5
}
