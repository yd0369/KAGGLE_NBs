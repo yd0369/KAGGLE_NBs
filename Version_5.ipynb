{
 "cells": [
  {
   "cell_type": "code",
   "execution_count": 1,
   "id": "c2ad2236",
   "metadata": {
    "_cell_guid": "b1076dfc-b9ad-4769-8c92-a6c4dae69d19",
    "_uuid": "8f2839f25d086af736a60e9eeb907d3b93b6e0e5",
    "execution": {
     "iopub.execute_input": "2023-02-17T15:55:21.876793Z",
     "iopub.status.busy": "2023-02-17T15:55:21.875958Z",
     "iopub.status.idle": "2023-02-17T15:55:28.832489Z",
     "shell.execute_reply": "2023-02-17T15:55:28.831514Z"
    },
    "papermill": {
     "duration": 6.96344,
     "end_time": "2023-02-17T15:55:28.834936",
     "exception": false,
     "start_time": "2023-02-17T15:55:21.871496",
     "status": "completed"
    },
    "tags": []
   },
   "outputs": [
    {
     "data": {
      "text/plain": [
       "'2.9.2'"
      ]
     },
     "execution_count": 1,
     "metadata": {},
     "output_type": "execute_result"
    }
   ],
   "source": [
    "import tensorflow as tf\n",
    "tf.__version__"
   ]
  },
  {
   "cell_type": "markdown",
   "id": "761ddaaf",
   "metadata": {
    "papermill": {
     "duration": 0.001498,
     "end_time": "2023-02-17T15:55:28.838594",
     "exception": false,
     "start_time": "2023-02-17T15:55:28.837096",
     "status": "completed"
    },
    "tags": []
   },
   "source": [
    "## Importing Libraries"
   ]
  },
  {
   "cell_type": "code",
   "execution_count": 2,
   "id": "d3ce3884",
   "metadata": {
    "execution": {
     "iopub.execute_input": "2023-02-17T15:55:28.844504Z",
     "iopub.status.busy": "2023-02-17T15:55:28.843110Z",
     "iopub.status.idle": "2023-02-17T15:55:28.852033Z",
     "shell.execute_reply": "2023-02-17T15:55:28.851130Z"
    },
    "papermill": {
     "duration": 0.013987,
     "end_time": "2023-02-17T15:55:28.854186",
     "exception": false,
     "start_time": "2023-02-17T15:55:28.840199",
     "status": "completed"
    },
    "tags": []
   },
   "outputs": [],
   "source": [
    "from tensorflow.keras.layers import Input, Lambda, Dense, Flatten\n",
    "from tensorflow.keras.models import Model, Sequential\n",
    "from tensorflow.keras.applications.inception_v3 import InceptionV3, preprocess_input\n",
    "from tensorflow.keras.preprocessing import image\n",
    "from tensorflow.keras.preprocessing.image import ImageDataGenerator, load_img\n",
    "from glob import glob\n",
    "import numpy as np\n",
    "import pandas as pd"
   ]
  },
  {
   "cell_type": "code",
   "execution_count": null,
   "id": "35d49185",
   "metadata": {
    "papermill": {
     "duration": 0.001417,
     "end_time": "2023-02-17T15:55:28.857391",
     "exception": false,
     "start_time": "2023-02-17T15:55:28.855974",
     "status": "completed"
    },
    "tags": []
   },
   "outputs": [],
   "source": []
  }
 ],
 "metadata": {
  "kernelspec": {
   "display_name": "Python 3",
   "language": "python",
   "name": "python3"
  },
  "language_info": {
   "codemirror_mode": {
    "name": "ipython",
    "version": 3
   },
   "file_extension": ".py",
   "mimetype": "text/x-python",
   "name": "python",
   "nbconvert_exporter": "python",
   "pygments_lexer": "ipython3",
   "version": "3.7.12"
  },
  "papermill": {
   "default_parameters": {},
   "duration": 18.370389,
   "end_time": "2023-02-17T15:55:32.080521",
   "environment_variables": {},
   "exception": null,
   "input_path": "__notebook__.ipynb",
   "output_path": "__notebook__.ipynb",
   "parameters": {},
   "start_time": "2023-02-17T15:55:13.710132",
   "version": "2.3.4"
  }
 },
 "nbformat": 4,
 "nbformat_minor": 5
}
